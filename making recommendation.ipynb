{
 "cells": [
  {
   "cell_type": "code",
   "execution_count": 38,
   "id": "68fe19d1",
   "metadata": {},
   "outputs": [],
   "source": [
    "from math import sqrt"
   ]
  },
  {
   "cell_type": "code",
   "execution_count": 39,
   "id": "b6e51d50",
   "metadata": {},
   "outputs": [],
   "source": [
    "#the dataset\n",
    "critics = {\n",
    "    'Lisa Rose': {\n",
    "        'Lady in the Water': 2.5,\n",
    "        'Snakes on a Plane': 3.5,\n",
    "        'Just My Luck': 3.0,\n",
    "        'Superman Returns': 3.5,\n",
    "        'You, Me and Dupree': 2.5,\n",
    "        'The Night Listener': 3.0,\n",
    "    },\n",
    "    'Gene Seymour': {\n",
    "        'Lady in the Water': 3.0,\n",
    "        'Snakes on a Plane': 3.5,\n",
    "        'Just My Luck': 1.5,\n",
    "        'Superman Returns': 5.0,\n",
    "        'The Night Listener': 3.0,\n",
    "        'You, Me and Dupree': 3.5,\n",
    "    },\n",
    "    'Michael Phillips': {\n",
    "        'Lady in the Water': 2.5,\n",
    "        'Snakes on a Plane': 3.0,\n",
    "        'Superman Returns': 3.5,\n",
    "        'The Night Listener': 4.0,\n",
    "    },\n",
    "    'Claudia Puig': {\n",
    "        'Snakes on a Plane': 3.5,\n",
    "        'Just My Luck': 3.0,\n",
    "        'The Night Listener': 4.5,\n",
    "        'Superman Returns': 4.0,\n",
    "        'You, Me and Dupree': 2.5,\n",
    "    },\n",
    "    'Mick LaSalle': {\n",
    "        'Lady in the Water': 3.0,\n",
    "        'Snakes on a Plane': 4.0,\n",
    "        'Just My Luck': 2.0,\n",
    "        'Superman Returns': 3.0,\n",
    "        'The Night Listener': 3.0,\n",
    "        'You, Me and Dupree': 2.0,\n",
    "    },\n",
    "    'Jack Matthews': {\n",
    "        'Lady in the Water': 3.0,\n",
    "        'Snakes on a Plane': 4.0,\n",
    "        'The Night Listener': 3.0,\n",
    "        'Superman Returns': 5.0,\n",
    "        'You, Me and Dupree': 3.5,\n",
    "    },\n",
    "    'Toby': {'Snakes on a Plane': 4.5, 'You, Me and Dupree': 1.0,\n",
    "             'Superman Returns': 4.0}\n",
    "}"
   ]
  },
  {
   "cell_type": "code",
   "execution_count": 40,
   "id": "5630cffb",
   "metadata": {},
   "outputs": [],
   "source": [
    "#Euclidean distance score (index for finding similarity between people)\n",
    "\n",
    "def sim_distance(prefs, person1, person2):\n",
    "    si = {}        #dictionary for storing similar movies\n",
    "    for item in prefs[person1]:\n",
    "        if item in prefs[person2]:\n",
    "            si[item] = 1\n",
    "    \n",
    "    \n",
    "    if len(si) == 0:\n",
    "        return 0\n",
    "    \n",
    "    sum_of_squares = sum([pow(prefs[person1][item]-prefs[person2][item], 2) for item in si])\n",
    "    \n",
    "    return 1/(1+sqrt(sum_of_squares))\n",
    "            \n",
    "            "
   ]
  },
  {
   "cell_type": "code",
   "execution_count": 41,
   "id": "0a7c25d0",
   "metadata": {},
   "outputs": [
    {
     "data": {
      "text/plain": [
       "0.29429805508554946"
      ]
     },
     "execution_count": 41,
     "metadata": {},
     "output_type": "execute_result"
    }
   ],
   "source": [
    "sim_distance(critics, 'Lisa Rose', 'Gene Seymour')"
   ]
  },
  {
   "cell_type": "code",
   "execution_count": 42,
   "id": "bd38e40d",
   "metadata": {},
   "outputs": [],
   "source": [
    "def sim_pearson(prefs, person1, person2):\n",
    "    si = {}\n",
    "    for item in prefs[person1]:\n",
    "        if item in prefs[person2]:\n",
    "            si[item] = 1\n",
    "            \n",
    "    n = len(si)\n",
    "    if n ==0:\n",
    "        return 0\n",
    "    \n",
    "    #add the preferences\n",
    "    sum1 = sum([prefs[person1][it] for it in si])\n",
    "    sum2 = sum([prefs[person2][it] for it in si])\n",
    "    \n",
    "    #sum of squares\n",
    "    sum1Sq = sum([pow(prefs[person1][it],2) for it in si])\n",
    "    sum2Sq = sum([pow(prefs[person2][it],2) for it in si])\n",
    "    \n",
    "    pSum = sum([prefs[person1][it]*prefs[person2][it] for it in si])\n",
    "    \n",
    "    num = pSum - (sum1*sum2/n)\n",
    "    den = sqrt((sum1Sq-pow(sum1,2)/n)*(sum2Sq-pow(sum2,2)/n))\n",
    "    \n",
    "    if den==0:return 0\n",
    "    \n",
    "    return (num/den)\n",
    "\n",
    "            "
   ]
  },
  {
   "cell_type": "code",
   "execution_count": 43,
   "id": "5b9e97dc",
   "metadata": {},
   "outputs": [
    {
     "data": {
      "text/plain": [
       "0.39605901719066977"
      ]
     },
     "execution_count": 43,
     "metadata": {},
     "output_type": "execute_result"
    }
   ],
   "source": [
    "sim_pearson(critics, 'Lisa Rose', 'Gene Seymour')"
   ]
  },
  {
   "cell_type": "code",
   "execution_count": 44,
   "id": "ca220c12",
   "metadata": {},
   "outputs": [],
   "source": [
    "def topMatches(prefs, person, n = 5, similarity = sim_pearson):\n",
    "    scores = [(similarity(prefs,person,other), other) for other in prefs if other != person]\n",
    "    \n",
    "    scores.sort(reverse=True)\n",
    "    return scores[0:n]\n",
    "\n"
   ]
  },
  {
   "cell_type": "code",
   "execution_count": 45,
   "id": "1bfd2417",
   "metadata": {},
   "outputs": [
    {
     "data": {
      "text/plain": [
       "[(0.9912407071619299, 'Lisa Rose'),\n",
       " (0.9244734516419049, 'Mick LaSalle'),\n",
       " (0.8934051474415647, 'Claudia Puig')]"
      ]
     },
     "execution_count": 45,
     "metadata": {},
     "output_type": "execute_result"
    }
   ],
   "source": [
    "topMatches(critics, 'Toby', n=3)"
   ]
  },
  {
   "cell_type": "code",
   "execution_count": 48,
   "id": "f02cbe4c",
   "metadata": {},
   "outputs": [],
   "source": [
    "def getRecommendation(prefs, person, similarity = sim_pearson):\n",
    "    totals = {}\n",
    "    sumSims = {}\n",
    "    for other in prefs:\n",
    "        if other == person: continue\n",
    "        sim = similarity(prefs, person, other)\n",
    "        \n",
    "        if sim <= 0: continue\n",
    "        \n",
    "        for item in prefs[other]:\n",
    "            if item not in prefs[person] or prefs[person][item] == 0:\n",
    "                totals.setdefault(item, 0)\n",
    "                totals[item] += prefs[other][item]*sim\n",
    "                sumSims.setdefault(item, 0)\n",
    "                sumSims[item] += sim\n",
    "                \n",
    "        rankings = [(total/sumSims[item], item) for item, total in totals.items()]\n",
    "            \n",
    "    rankings.sort(reverse=True)\n",
    "    return rankings\n",
    "            \n",
    "    \n",
    "        "
   ]
  },
  {
   "cell_type": "code",
   "execution_count": 49,
   "id": "f1a0c16f",
   "metadata": {},
   "outputs": [
    {
     "data": {
      "text/plain": [
       "[(3.3477895267131017, 'The Night Listener'),\n",
       " (2.8325499182641614, 'Lady in the Water'),\n",
       " (2.530980703765565, 'Just My Luck')]"
      ]
     },
     "execution_count": 49,
     "metadata": {},
     "output_type": "execute_result"
    }
   ],
   "source": [
    "getRecommendation(critics, 'Toby')"
   ]
  },
  {
   "cell_type": "code",
   "execution_count": null,
   "id": "de4b0f7d",
   "metadata": {},
   "outputs": [],
   "source": []
  }
 ],
 "metadata": {
  "kernelspec": {
   "display_name": "Python 3 (ipykernel)",
   "language": "python",
   "name": "python3"
  },
  "language_info": {
   "codemirror_mode": {
    "name": "ipython",
    "version": 3
   },
   "file_extension": ".py",
   "mimetype": "text/x-python",
   "name": "python",
   "nbconvert_exporter": "python",
   "pygments_lexer": "ipython3",
   "version": "3.11.1"
  }
 },
 "nbformat": 4,
 "nbformat_minor": 5
}
